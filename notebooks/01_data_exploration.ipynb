# Exploratory Data Analysis for Student Retention Capstone

This notebook includes univariate and bivariate visualizations of GPA, attendance, and scholarship variables.
