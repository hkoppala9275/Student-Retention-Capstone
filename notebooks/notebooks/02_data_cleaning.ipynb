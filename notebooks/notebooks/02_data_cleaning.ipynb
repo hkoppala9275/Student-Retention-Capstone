# Data Cleaning for Student Retention Capstone

This notebook handles missing values, removes outliers, and creates derived features such as gpa_delta and financial_stress.
