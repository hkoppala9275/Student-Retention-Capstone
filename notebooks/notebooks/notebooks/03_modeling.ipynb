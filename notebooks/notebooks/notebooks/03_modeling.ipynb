# Modeling for Student Retention Capstone

This notebook will include baseline ML models (Logistic Regression, Random Forest, Gradient Boosting) in Sprint 3.
